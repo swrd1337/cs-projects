{
 "cells": [
  {
   "cell_type": "code",
   "execution_count": 16,
   "metadata": {},
   "outputs": [],
   "source": [
    "import numpy as np\n",
    "import pandas as pd"
   ]
  },
  {
   "cell_type": "markdown",
   "metadata": {},
   "source": [
    "Load CSV data (drop first column)"
   ]
  },
  {
   "cell_type": "code",
   "execution_count": 17,
   "metadata": {},
   "outputs": [
    {
     "name": "stdout",
     "output_type": "stream",
     "text": [
      "  Attr_0 Attr_1 Attr_2\n",
      "0     16     50    yes\n",
      "1     16      0     no\n",
      "2     31      1     no\n",
      "3     31      1    yes\n",
      "4     46     26     no\n"
     ]
    }
   ],
   "source": [
    "data = pd.read_csv('test_data.csv', header=None, prefix=\"Attr_\")\n",
    "data = data.drop([0]) # Used to remove first row\n",
    "data = data.reset_index(drop=True)\n",
    "print(data.head(5))"
   ]
  },
  {
   "cell_type": "markdown",
   "metadata": {},
   "source": [
    "Get indiscernibility for the given attributes."
   ]
  },
  {
   "cell_type": "code",
   "execution_count": 18,
   "metadata": {},
   "outputs": [
    {
     "name": "stdout",
     "output_type": "stream",
     "text": [
      "Indiscernibility: [[0], [1], [2, 3], [4, 6], [5]]\n"
     ]
    }
   ],
   "source": [
    "def get_ind_for_attributes(attr_list):\n",
    "    \"\"\"\n",
    "    Returns indiscernibility for the attributes.\n",
    "    \"\"\"\n",
    "    final = []\n",
    "    skip_i_elements = []\n",
    "    for i, row in data.iterrows():\n",
    "        temp_row = row[attr_list]\n",
    "\n",
    "        if i not in skip_i_elements:\n",
    "            ind_elements = []\n",
    "            for j in range(i, len(data)):\n",
    "                temp_row_j = data.iloc[j][attr_list]\n",
    "                if temp_row.equals(temp_row_j):\n",
    "                    ind_elements.append(j)\n",
    "                    skip_i_elements.append(j)\n",
    "            final.append(ind_elements)\n",
    "            ind_elements = []\n",
    "\n",
    "    return final;\n",
    "\n",
    "\n",
    "\n",
    "list_of_attr = [\"Attr_0\", \"Attr_1\"]\n",
    "# list_of_attr = [\"Attr_0\"] \n",
    "indiscernibility = get_ind_for_attributes(list_of_attr) # list of IND for every attribute (contains list of row positions)\n",
    "print(f\"Indiscernibility: {indiscernibility}\")"
   ]
  },
  {
   "cell_type": "markdown",
   "metadata": {},
   "source": [
    "Get values for the given target attribute."
   ]
  },
  {
   "cell_type": "code",
   "execution_count": 19,
   "metadata": {},
   "outputs": [
    {
     "name": "stdout",
     "output_type": "stream",
     "text": [
      "X: [0, 3, 5] for target attribute: yes\n"
     ]
    }
   ],
   "source": [
    "def get_values_for_target_attr(target_attr, target_value):\n",
    "    \"\"\"\n",
    "    Returns the list of row positions for the target attribute and target value.\n",
    "    \"\"\"\n",
    "    final = []\n",
    "    for i, row in data.iterrows():\n",
    "        if (row[target_attr].strip() == target_value):\n",
    "            final.append(i)\n",
    "    return final;\n",
    "\n",
    "\n",
    "\n",
    "approximation_target_attr_value = \"yes\"\n",
    "target_attr = \"Attr_2\"\n",
    "x = get_values_for_target_attr(target_attr, approximation_target_attr_value)\n",
    "print(f\"X: {x} for target attribute: {approximation_target_attr_value}\")\n"
   ]
  },
  {
   "cell_type": "markdown",
   "metadata": {},
   "source": [
    "Lower approximation."
   ]
  },
  {
   "cell_type": "code",
   "execution_count": 20,
   "metadata": {},
   "outputs": [
    {
     "name": "stdout",
     "output_type": "stream",
     "text": [
      "Lower Approximation: [0, 5]\n"
     ]
    }
   ],
   "source": [
    "def get_lower_approxiamtion(x, indiscernibility):\n",
    "    \"\"\"\n",
    "    Lower approximation method.\n",
    "    \"\"\"\n",
    "    lower_approx = []\n",
    "    for i in indiscernibility:\n",
    "        for sub_i in i:\n",
    "            if sub_i in x:\n",
    "                lower_approx.append(sub_i)\n",
    "            else:\n",
    "                break\n",
    "    return lower_approx;\n",
    "\n",
    "\n",
    "lower_approx = get_lower_approxiamtion(x, indiscernibility)\n",
    "print(f\"Lower Approximation: {lower_approx}\")"
   ]
  },
  {
   "cell_type": "markdown",
   "metadata": {},
   "source": [
    "Upper approximation"
   ]
  },
  {
   "cell_type": "code",
   "execution_count": 21,
   "metadata": {},
   "outputs": [
    {
     "name": "stdout",
     "output_type": "stream",
     "text": [
      "Upper Approximation: [0, 2, 3, 5]\n"
     ]
    }
   ],
   "source": [
    "def get_upper_approxiamtion(x, indiscernibility):\n",
    "    \"\"\"\n",
    "    Upper approximation method.\n",
    "    \"\"\"\n",
    "    upper_approx = []\n",
    "    # If one sublist is present then add all elements from that sublist\n",
    "    for i in indiscernibility:\n",
    "        present = False\n",
    "        for sub_i in i:\n",
    "            if sub_i in x:\n",
    "                present = True\n",
    "                break;\n",
    "        if present:\n",
    "            upper_approx.extend(i)\n",
    "\n",
    "    return upper_approx\n",
    "\n",
    "\n",
    "upper_aprox = get_upper_approxiamtion(x, indiscernibility)\n",
    "print(f\"Upper Approximation: {upper_aprox}\")"
   ]
  },
  {
   "cell_type": "markdown",
   "metadata": {},
   "source": [
    "Boudary regions (boudary & outside)"
   ]
  },
  {
   "cell_type": "code",
   "execution_count": 22,
   "metadata": {},
   "outputs": [
    {
     "name": "stdout",
     "output_type": "stream",
     "text": [
      "Boundary region: [2, 3]\n",
      "Outside region: [1, 4, 6]\n"
     ]
    }
   ],
   "source": [
    "def get_boundary_region(upper_approx, lower_approx):\n",
    "    \"\"\"\n",
    "    Returns the boundary region.\n",
    "    \"\"\"\n",
    "    return [x for x in upper_approx if x not in lower_approx]\n",
    "\n",
    "\n",
    "boundary_reg = get_boundary_region(upper_aprox, lower_approx)\n",
    "print(f\"Boundary region: {boundary_reg}\")\n",
    "\n",
    "\n",
    "\n",
    "def get_outside_region(data_elements_i, upper_approx):\n",
    "    \"\"\"\n",
    "    Returns the outside region.\n",
    "    \"\"\"\n",
    "    return [x for x in data_elements_i if x not in upper_approx]\n",
    "\n",
    "\n",
    "outside_region = get_outside_region(list(data.index.values), upper_aprox)\n",
    "print(f\"Outside region: {outside_region}\")"
   ]
  },
  {
   "cell_type": "markdown",
   "metadata": {},
   "source": [
    "Roughness based on approximation..?"
   ]
  },
  {
   "cell_type": "code",
   "execution_count": 23,
   "metadata": {},
   "outputs": [
    {
     "name": "stdout",
     "output_type": "stream",
     "text": [
      "Roughness: 0.5\n"
     ]
    }
   ],
   "source": [
    "def get_data_roughness(lower_approx, upper_approx):\n",
    "    roughness = 0\n",
    "    lower_approx_count = len(lower_approx)\n",
    "    upper_approx_count = len(upper_approx)\n",
    "    if(lower_approx_count == 0):\n",
    "        roughness = 1\n",
    "    else:\n",
    "        roughness = 1 - (lower_approx_count/upper_approx_count)\n",
    "    return roughness\n",
    "\n",
    "print(f\"Roughness: {get_data_roughness(lower_approx, upper_aprox)}\")"
   ]
  }
 ],
 "metadata": {
  "interpreter": {
   "hash": "ac59ebe37160ed0dfa835113d9b8498d9f09ceb179beaac4002f036b9467c963"
  },
  "kernelspec": {
   "display_name": "Python 3.9.6 64-bit",
   "language": "python",
   "name": "python3"
  },
  "language_info": {
   "codemirror_mode": {
    "name": "ipython",
    "version": 3
   },
   "file_extension": ".py",
   "mimetype": "text/x-python",
   "name": "python",
   "nbconvert_exporter": "python",
   "pygments_lexer": "ipython3",
   "version": "3.9.6"
  },
  "orig_nbformat": 4
 },
 "nbformat": 4,
 "nbformat_minor": 2
}
